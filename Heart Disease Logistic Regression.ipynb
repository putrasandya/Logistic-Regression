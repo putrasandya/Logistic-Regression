{
  "metadata": {
    "kernelspec": {
      "name": "python",
      "display_name": "Python (Pyodide)",
      "language": "python"
    },
    "language_info": {
      "codemirror_mode": {
        "name": "python",
        "version": 3
      },
      "file_extension": ".py",
      "mimetype": "text/x-python",
      "name": "python",
      "nbconvert_exporter": "python",
      "pygments_lexer": "ipython3",
      "version": "3.8"
    }
  },
  "nbformat_minor": 5,
  "nbformat": 4,
  "cells": [
    {
      "id": "19ac8aca-02d1-4e6c-96cc-e02e8d7cc819",
      "cell_type": "code",
      "source": "%pip install seaborn\n%pip install numpy\n%pip install pandas\n%pip install scikit-learn\n%pip install matplotlib\n",
      "metadata": {
        "trusted": true
      },
      "outputs": [],
      "execution_count": 1
    },
    {
      "id": "e2439ccb-ad81-4707-ba8c-3426ed10f2fe",
      "cell_type": "code",
      "source": "import pandas as pd\nimport numpy as np\nfrom sklearn.model_selection import train_test_split\nfrom sklearn.linear_model import LogisticRegression\nfrom sklearn.preprocessing import StandardScaler\nfrom sklearn.metrics import log_loss\nimport matplotlib.pyplot as plt\nimport seaborn as sns\n%matplotlib inline\nimport warnings\nwarnings.filterwarnings('ignore')\n",
      "metadata": {
        "trusted": true
      },
      "outputs": [
        {
          "name": "stderr",
          "output_type": "stream",
          "text": "Matplotlib is building the font cache; this may take a moment.\n"
        }
      ],
      "execution_count": 2
    },
    {
      "id": "6b80250f-36dc-4c18-a785-e5a0c4b8a4cd",
      "cell_type": "code",
      "source": "TenYearCHD_df = pd.read_csv('HeartDisease.csv',sep=\";\" )\nTenYearCHD_df.describe()",
      "metadata": {
        "trusted": true,
        "scrolled": true
      },
      "outputs": [
        {
          "execution_count": 3,
          "output_type": "execute_result",
          "data": {
            "text/plain": "              male          age    education  currentSmoker   cigsPerDay  \\\ncount  4238.000000  4238.000000  4133.000000    4238.000000  4209.000000   \nmean      0.429212    49.584946     1.978950       0.494101     9.003089   \nstd       0.495022     8.572160     1.019791       0.500024    11.920094   \nmin       0.000000    32.000000     1.000000       0.000000     0.000000   \n25%       0.000000    42.000000     1.000000       0.000000     0.000000   \n50%       0.000000    49.000000     2.000000       0.000000     0.000000   \n75%       1.000000    56.000000     3.000000       1.000000    20.000000   \nmax       1.000000    70.000000     4.000000       1.000000    70.000000   \n\n            BPMeds  prevalentStroke  prevalentHyp     diabetes      totChol  \\\ncount  4185.000000      4238.000000   4238.000000  4238.000000  4188.000000   \nmean      0.029630         0.005899      0.310524     0.025720   236.721585   \nstd       0.169584         0.076587      0.462763     0.158316    44.590334   \nmin       0.000000         0.000000      0.000000     0.000000   107.000000   \n25%       0.000000         0.000000      0.000000     0.000000   206.000000   \n50%       0.000000         0.000000      0.000000     0.000000   234.000000   \n75%       0.000000         0.000000      1.000000     0.000000   263.000000   \nmax       1.000000         1.000000      1.000000     1.000000   696.000000   \n\n             sysBP        diaBP          BMI    heartRate      glucose  \\\ncount  4238.000000  4238.000000  4219.000000  4237.000000  3850.000000   \nmean    132.352407    82.893464    25.802008    75.878924    81.966753   \nstd      22.038097    11.910850     4.080111    12.026596    23.959998   \nmin      83.500000    48.000000    15.540000    44.000000    40.000000   \n25%     117.000000    75.000000    23.070000    68.000000    71.000000   \n50%     128.000000    82.000000    25.400000    75.000000    78.000000   \n75%     144.000000    89.875000    28.040000    83.000000    87.000000   \nmax     295.000000   142.500000    56.800000   143.000000   394.000000   \n\n        TenYearCHD  \ncount  4238.000000  \nmean      0.151958  \nstd       0.359023  \nmin       0.000000  \n25%       0.000000  \n50%       0.000000  \n75%       0.000000  \nmax       1.000000  ",
            "text/html": "<div>\n<style scoped>\n    .dataframe tbody tr th:only-of-type {\n        vertical-align: middle;\n    }\n\n    .dataframe tbody tr th {\n        vertical-align: top;\n    }\n\n    .dataframe thead th {\n        text-align: right;\n    }\n</style>\n<table border=\"1\" class=\"dataframe\">\n  <thead>\n    <tr style=\"text-align: right;\">\n      <th></th>\n      <th>male</th>\n      <th>age</th>\n      <th>education</th>\n      <th>currentSmoker</th>\n      <th>cigsPerDay</th>\n      <th>BPMeds</th>\n      <th>prevalentStroke</th>\n      <th>prevalentHyp</th>\n      <th>diabetes</th>\n      <th>totChol</th>\n      <th>sysBP</th>\n      <th>diaBP</th>\n      <th>BMI</th>\n      <th>heartRate</th>\n      <th>glucose</th>\n      <th>TenYearCHD</th>\n    </tr>\n  </thead>\n  <tbody>\n    <tr>\n      <th>count</th>\n      <td>4238.000000</td>\n      <td>4238.000000</td>\n      <td>4133.000000</td>\n      <td>4238.000000</td>\n      <td>4209.000000</td>\n      <td>4185.000000</td>\n      <td>4238.000000</td>\n      <td>4238.000000</td>\n      <td>4238.000000</td>\n      <td>4188.000000</td>\n      <td>4238.000000</td>\n      <td>4238.000000</td>\n      <td>4219.000000</td>\n      <td>4237.000000</td>\n      <td>3850.000000</td>\n      <td>4238.000000</td>\n    </tr>\n    <tr>\n      <th>mean</th>\n      <td>0.429212</td>\n      <td>49.584946</td>\n      <td>1.978950</td>\n      <td>0.494101</td>\n      <td>9.003089</td>\n      <td>0.029630</td>\n      <td>0.005899</td>\n      <td>0.310524</td>\n      <td>0.025720</td>\n      <td>236.721585</td>\n      <td>132.352407</td>\n      <td>82.893464</td>\n      <td>25.802008</td>\n      <td>75.878924</td>\n      <td>81.966753</td>\n      <td>0.151958</td>\n    </tr>\n    <tr>\n      <th>std</th>\n      <td>0.495022</td>\n      <td>8.572160</td>\n      <td>1.019791</td>\n      <td>0.500024</td>\n      <td>11.920094</td>\n      <td>0.169584</td>\n      <td>0.076587</td>\n      <td>0.462763</td>\n      <td>0.158316</td>\n      <td>44.590334</td>\n      <td>22.038097</td>\n      <td>11.910850</td>\n      <td>4.080111</td>\n      <td>12.026596</td>\n      <td>23.959998</td>\n      <td>0.359023</td>\n    </tr>\n    <tr>\n      <th>min</th>\n      <td>0.000000</td>\n      <td>32.000000</td>\n      <td>1.000000</td>\n      <td>0.000000</td>\n      <td>0.000000</td>\n      <td>0.000000</td>\n      <td>0.000000</td>\n      <td>0.000000</td>\n      <td>0.000000</td>\n      <td>107.000000</td>\n      <td>83.500000</td>\n      <td>48.000000</td>\n      <td>15.540000</td>\n      <td>44.000000</td>\n      <td>40.000000</td>\n      <td>0.000000</td>\n    </tr>\n    <tr>\n      <th>25%</th>\n      <td>0.000000</td>\n      <td>42.000000</td>\n      <td>1.000000</td>\n      <td>0.000000</td>\n      <td>0.000000</td>\n      <td>0.000000</td>\n      <td>0.000000</td>\n      <td>0.000000</td>\n      <td>0.000000</td>\n      <td>206.000000</td>\n      <td>117.000000</td>\n      <td>75.000000</td>\n      <td>23.070000</td>\n      <td>68.000000</td>\n      <td>71.000000</td>\n      <td>0.000000</td>\n    </tr>\n    <tr>\n      <th>50%</th>\n      <td>0.000000</td>\n      <td>49.000000</td>\n      <td>2.000000</td>\n      <td>0.000000</td>\n      <td>0.000000</td>\n      <td>0.000000</td>\n      <td>0.000000</td>\n      <td>0.000000</td>\n      <td>0.000000</td>\n      <td>234.000000</td>\n      <td>128.000000</td>\n      <td>82.000000</td>\n      <td>25.400000</td>\n      <td>75.000000</td>\n      <td>78.000000</td>\n      <td>0.000000</td>\n    </tr>\n    <tr>\n      <th>75%</th>\n      <td>1.000000</td>\n      <td>56.000000</td>\n      <td>3.000000</td>\n      <td>1.000000</td>\n      <td>20.000000</td>\n      <td>0.000000</td>\n      <td>0.000000</td>\n      <td>1.000000</td>\n      <td>0.000000</td>\n      <td>263.000000</td>\n      <td>144.000000</td>\n      <td>89.875000</td>\n      <td>28.040000</td>\n      <td>83.000000</td>\n      <td>87.000000</td>\n      <td>0.000000</td>\n    </tr>\n    <tr>\n      <th>max</th>\n      <td>1.000000</td>\n      <td>70.000000</td>\n      <td>4.000000</td>\n      <td>1.000000</td>\n      <td>70.000000</td>\n      <td>1.000000</td>\n      <td>1.000000</td>\n      <td>1.000000</td>\n      <td>1.000000</td>\n      <td>696.000000</td>\n      <td>295.000000</td>\n      <td>142.500000</td>\n      <td>56.800000</td>\n      <td>143.000000</td>\n      <td>394.000000</td>\n      <td>1.000000</td>\n    </tr>\n  </tbody>\n</table>\n</div>"
          },
          "metadata": {}
        }
      ],
      "execution_count": 3
    },
    {
      "id": "3409f80e-b88e-468a-b0d8-c38b5db67257",
      "cell_type": "code",
      "source": "TenYearCHD_df.corr()",
      "metadata": {
        "trusted": true
      },
      "outputs": [
        {
          "execution_count": 4,
          "output_type": "execute_result",
          "data": {
            "text/plain": "                     male       age  education  currentSmoker  cigsPerDay  \\\nmale             1.000000 -0.028979   0.017352       0.197596    0.317930   \nage             -0.028979  1.000000  -0.165883      -0.213748   -0.192791   \neducation        0.017352 -0.165883   1.000000       0.018532    0.008085   \ncurrentSmoker    0.197596 -0.213748   0.018532       1.000000    0.769690   \ncigsPerDay       0.317930 -0.192791   0.008085       0.769690    1.000000   \nBPMeds          -0.052506  0.122995  -0.010815      -0.048938   -0.046134   \nprevalentStroke -0.004546  0.057655  -0.035112      -0.032988   -0.032707   \nprevalentHyp     0.005313  0.307194  -0.081970      -0.103260   -0.066146   \ndiabetes         0.015708  0.101258  -0.038680      -0.044295   -0.037067   \ntotChol         -0.070322  0.262131  -0.023115      -0.046562   -0.026320   \nsysBP           -0.035989  0.394302  -0.129631      -0.130230   -0.088780   \ndiaBP            0.057933  0.206104  -0.062316      -0.107746   -0.056632   \nBMI              0.081672  0.135800  -0.137504      -0.167650   -0.092856   \nheartRate       -0.116620 -0.012823  -0.054206       0.062356    0.075157   \nglucose          0.006083  0.122256  -0.035721      -0.056826   -0.058960   \nTenYearCHD       0.088428  0.225256  -0.054059       0.019456    0.057884   \n\n                   BPMeds  prevalentStroke  prevalentHyp  diabetes   totChol  \\\nmale            -0.052506        -0.004546      0.005313  0.015708 -0.070322   \nage              0.122995         0.057655      0.307194  0.101258  0.262131   \neducation       -0.010815        -0.035112     -0.081970 -0.038680 -0.023115   \ncurrentSmoker   -0.048938        -0.032988     -0.103260 -0.044295 -0.046562   \ncigsPerDay      -0.046134        -0.032707     -0.066146 -0.037067 -0.026320   \nBPMeds           1.000000         0.117365      0.261187  0.052047  0.080558   \nprevalentStroke  0.117365         1.000000      0.074830  0.006949  0.000067   \nprevalentHyp     0.261187         0.074830      1.000000  0.077808  0.163993   \ndiabetes         0.052047         0.006949      0.077808  1.000000  0.040278   \ntotChol          0.080558         0.000067      0.163993  0.040278  1.000000   \nsysBP            0.254219         0.057009      0.696755  0.111283  0.208908   \ndiaBP            0.194227         0.045190      0.615751  0.050329  0.165182   \nBMI              0.100668         0.025891      0.301318  0.087036  0.115767   \nheartRate        0.015233        -0.017676      0.147261  0.048994  0.091125   \nglucose          0.051176         0.018431      0.086834  0.617627  0.046408   \nTenYearCHD       0.087489         0.061810      0.177603  0.097317  0.082184   \n\n                    sysBP     diaBP       BMI  heartRate   glucose  TenYearCHD  \nmale            -0.035989  0.057933  0.081672  -0.116620  0.006083    0.088428  \nage              0.394302  0.206104  0.135800  -0.012823  0.122256    0.225256  \neducation       -0.129631 -0.062316 -0.137504  -0.054206 -0.035721   -0.054059  \ncurrentSmoker   -0.130230 -0.107746 -0.167650   0.062356 -0.056826    0.019456  \ncigsPerDay      -0.088780 -0.056632 -0.092856   0.075157 -0.058960    0.057884  \nBPMeds           0.254219  0.194227  0.100668   0.015233  0.051176    0.087489  \nprevalentStroke  0.057009  0.045190  0.025891  -0.017676  0.018431    0.061810  \nprevalentHyp     0.696755  0.615751  0.301318   0.147261  0.086834    0.177603  \ndiabetes         0.111283  0.050329  0.087036   0.048994  0.617627    0.097317  \ntotChol          0.208908  0.165182  0.115767   0.091125  0.046408    0.082184  \nsysBP            1.000000  0.784002  0.326981   0.182246  0.140621    0.216429  \ndiaBP            0.784002  1.000000  0.377588   0.181255  0.061231    0.145299  \nBMI              0.326981  0.377588  1.000000   0.067678  0.087377    0.075192  \nheartRate        0.182246  0.181255  0.067678   1.000000  0.094500    0.022913  \nglucose          0.140621  0.061231  0.087377   0.094500  1.000000    0.125544  \nTenYearCHD       0.216429  0.145299  0.075192   0.022913  0.125544    1.000000  ",
            "text/html": "<div>\n<style scoped>\n    .dataframe tbody tr th:only-of-type {\n        vertical-align: middle;\n    }\n\n    .dataframe tbody tr th {\n        vertical-align: top;\n    }\n\n    .dataframe thead th {\n        text-align: right;\n    }\n</style>\n<table border=\"1\" class=\"dataframe\">\n  <thead>\n    <tr style=\"text-align: right;\">\n      <th></th>\n      <th>male</th>\n      <th>age</th>\n      <th>education</th>\n      <th>currentSmoker</th>\n      <th>cigsPerDay</th>\n      <th>BPMeds</th>\n      <th>prevalentStroke</th>\n      <th>prevalentHyp</th>\n      <th>diabetes</th>\n      <th>totChol</th>\n      <th>sysBP</th>\n      <th>diaBP</th>\n      <th>BMI</th>\n      <th>heartRate</th>\n      <th>glucose</th>\n      <th>TenYearCHD</th>\n    </tr>\n  </thead>\n  <tbody>\n    <tr>\n      <th>male</th>\n      <td>1.000000</td>\n      <td>-0.028979</td>\n      <td>0.017352</td>\n      <td>0.197596</td>\n      <td>0.317930</td>\n      <td>-0.052506</td>\n      <td>-0.004546</td>\n      <td>0.005313</td>\n      <td>0.015708</td>\n      <td>-0.070322</td>\n      <td>-0.035989</td>\n      <td>0.057933</td>\n      <td>0.081672</td>\n      <td>-0.116620</td>\n      <td>0.006083</td>\n      <td>0.088428</td>\n    </tr>\n    <tr>\n      <th>age</th>\n      <td>-0.028979</td>\n      <td>1.000000</td>\n      <td>-0.165883</td>\n      <td>-0.213748</td>\n      <td>-0.192791</td>\n      <td>0.122995</td>\n      <td>0.057655</td>\n      <td>0.307194</td>\n      <td>0.101258</td>\n      <td>0.262131</td>\n      <td>0.394302</td>\n      <td>0.206104</td>\n      <td>0.135800</td>\n      <td>-0.012823</td>\n      <td>0.122256</td>\n      <td>0.225256</td>\n    </tr>\n    <tr>\n      <th>education</th>\n      <td>0.017352</td>\n      <td>-0.165883</td>\n      <td>1.000000</td>\n      <td>0.018532</td>\n      <td>0.008085</td>\n      <td>-0.010815</td>\n      <td>-0.035112</td>\n      <td>-0.081970</td>\n      <td>-0.038680</td>\n      <td>-0.023115</td>\n      <td>-0.129631</td>\n      <td>-0.062316</td>\n      <td>-0.137504</td>\n      <td>-0.054206</td>\n      <td>-0.035721</td>\n      <td>-0.054059</td>\n    </tr>\n    <tr>\n      <th>currentSmoker</th>\n      <td>0.197596</td>\n      <td>-0.213748</td>\n      <td>0.018532</td>\n      <td>1.000000</td>\n      <td>0.769690</td>\n      <td>-0.048938</td>\n      <td>-0.032988</td>\n      <td>-0.103260</td>\n      <td>-0.044295</td>\n      <td>-0.046562</td>\n      <td>-0.130230</td>\n      <td>-0.107746</td>\n      <td>-0.167650</td>\n      <td>0.062356</td>\n      <td>-0.056826</td>\n      <td>0.019456</td>\n    </tr>\n    <tr>\n      <th>cigsPerDay</th>\n      <td>0.317930</td>\n      <td>-0.192791</td>\n      <td>0.008085</td>\n      <td>0.769690</td>\n      <td>1.000000</td>\n      <td>-0.046134</td>\n      <td>-0.032707</td>\n      <td>-0.066146</td>\n      <td>-0.037067</td>\n      <td>-0.026320</td>\n      <td>-0.088780</td>\n      <td>-0.056632</td>\n      <td>-0.092856</td>\n      <td>0.075157</td>\n      <td>-0.058960</td>\n      <td>0.057884</td>\n    </tr>\n    <tr>\n      <th>BPMeds</th>\n      <td>-0.052506</td>\n      <td>0.122995</td>\n      <td>-0.010815</td>\n      <td>-0.048938</td>\n      <td>-0.046134</td>\n      <td>1.000000</td>\n      <td>0.117365</td>\n      <td>0.261187</td>\n      <td>0.052047</td>\n      <td>0.080558</td>\n      <td>0.254219</td>\n      <td>0.194227</td>\n      <td>0.100668</td>\n      <td>0.015233</td>\n      <td>0.051176</td>\n      <td>0.087489</td>\n    </tr>\n    <tr>\n      <th>prevalentStroke</th>\n      <td>-0.004546</td>\n      <td>0.057655</td>\n      <td>-0.035112</td>\n      <td>-0.032988</td>\n      <td>-0.032707</td>\n      <td>0.117365</td>\n      <td>1.000000</td>\n      <td>0.074830</td>\n      <td>0.006949</td>\n      <td>0.000067</td>\n      <td>0.057009</td>\n      <td>0.045190</td>\n      <td>0.025891</td>\n      <td>-0.017676</td>\n      <td>0.018431</td>\n      <td>0.061810</td>\n    </tr>\n    <tr>\n      <th>prevalentHyp</th>\n      <td>0.005313</td>\n      <td>0.307194</td>\n      <td>-0.081970</td>\n      <td>-0.103260</td>\n      <td>-0.066146</td>\n      <td>0.261187</td>\n      <td>0.074830</td>\n      <td>1.000000</td>\n      <td>0.077808</td>\n      <td>0.163993</td>\n      <td>0.696755</td>\n      <td>0.615751</td>\n      <td>0.301318</td>\n      <td>0.147261</td>\n      <td>0.086834</td>\n      <td>0.177603</td>\n    </tr>\n    <tr>\n      <th>diabetes</th>\n      <td>0.015708</td>\n      <td>0.101258</td>\n      <td>-0.038680</td>\n      <td>-0.044295</td>\n      <td>-0.037067</td>\n      <td>0.052047</td>\n      <td>0.006949</td>\n      <td>0.077808</td>\n      <td>1.000000</td>\n      <td>0.040278</td>\n      <td>0.111283</td>\n      <td>0.050329</td>\n      <td>0.087036</td>\n      <td>0.048994</td>\n      <td>0.617627</td>\n      <td>0.097317</td>\n    </tr>\n    <tr>\n      <th>totChol</th>\n      <td>-0.070322</td>\n      <td>0.262131</td>\n      <td>-0.023115</td>\n      <td>-0.046562</td>\n      <td>-0.026320</td>\n      <td>0.080558</td>\n      <td>0.000067</td>\n      <td>0.163993</td>\n      <td>0.040278</td>\n      <td>1.000000</td>\n      <td>0.208908</td>\n      <td>0.165182</td>\n      <td>0.115767</td>\n      <td>0.091125</td>\n      <td>0.046408</td>\n      <td>0.082184</td>\n    </tr>\n    <tr>\n      <th>sysBP</th>\n      <td>-0.035989</td>\n      <td>0.394302</td>\n      <td>-0.129631</td>\n      <td>-0.130230</td>\n      <td>-0.088780</td>\n      <td>0.254219</td>\n      <td>0.057009</td>\n      <td>0.696755</td>\n      <td>0.111283</td>\n      <td>0.208908</td>\n      <td>1.000000</td>\n      <td>0.784002</td>\n      <td>0.326981</td>\n      <td>0.182246</td>\n      <td>0.140621</td>\n      <td>0.216429</td>\n    </tr>\n    <tr>\n      <th>diaBP</th>\n      <td>0.057933</td>\n      <td>0.206104</td>\n      <td>-0.062316</td>\n      <td>-0.107746</td>\n      <td>-0.056632</td>\n      <td>0.194227</td>\n      <td>0.045190</td>\n      <td>0.615751</td>\n      <td>0.050329</td>\n      <td>0.165182</td>\n      <td>0.784002</td>\n      <td>1.000000</td>\n      <td>0.377588</td>\n      <td>0.181255</td>\n      <td>0.061231</td>\n      <td>0.145299</td>\n    </tr>\n    <tr>\n      <th>BMI</th>\n      <td>0.081672</td>\n      <td>0.135800</td>\n      <td>-0.137504</td>\n      <td>-0.167650</td>\n      <td>-0.092856</td>\n      <td>0.100668</td>\n      <td>0.025891</td>\n      <td>0.301318</td>\n      <td>0.087036</td>\n      <td>0.115767</td>\n      <td>0.326981</td>\n      <td>0.377588</td>\n      <td>1.000000</td>\n      <td>0.067678</td>\n      <td>0.087377</td>\n      <td>0.075192</td>\n    </tr>\n    <tr>\n      <th>heartRate</th>\n      <td>-0.116620</td>\n      <td>-0.012823</td>\n      <td>-0.054206</td>\n      <td>0.062356</td>\n      <td>0.075157</td>\n      <td>0.015233</td>\n      <td>-0.017676</td>\n      <td>0.147261</td>\n      <td>0.048994</td>\n      <td>0.091125</td>\n      <td>0.182246</td>\n      <td>0.181255</td>\n      <td>0.067678</td>\n      <td>1.000000</td>\n      <td>0.094500</td>\n      <td>0.022913</td>\n    </tr>\n    <tr>\n      <th>glucose</th>\n      <td>0.006083</td>\n      <td>0.122256</td>\n      <td>-0.035721</td>\n      <td>-0.056826</td>\n      <td>-0.058960</td>\n      <td>0.051176</td>\n      <td>0.018431</td>\n      <td>0.086834</td>\n      <td>0.617627</td>\n      <td>0.046408</td>\n      <td>0.140621</td>\n      <td>0.061231</td>\n      <td>0.087377</td>\n      <td>0.094500</td>\n      <td>1.000000</td>\n      <td>0.125544</td>\n    </tr>\n    <tr>\n      <th>TenYearCHD</th>\n      <td>0.088428</td>\n      <td>0.225256</td>\n      <td>-0.054059</td>\n      <td>0.019456</td>\n      <td>0.057884</td>\n      <td>0.087489</td>\n      <td>0.061810</td>\n      <td>0.177603</td>\n      <td>0.097317</td>\n      <td>0.082184</td>\n      <td>0.216429</td>\n      <td>0.145299</td>\n      <td>0.075192</td>\n      <td>0.022913</td>\n      <td>0.125544</td>\n      <td>1.000000</td>\n    </tr>\n  </tbody>\n</table>\n</div>"
          },
          "metadata": {}
        }
      ],
      "execution_count": 4
    },
    {
      "id": "32b2db2e-a084-463e-b4fe-53379f3bb2b8",
      "cell_type": "code",
      "source": "TenYearCHD_df = TenYearCHD_df[['age', 'cigsPerDay', 'totChol', 'sysBP', 'diaBP', 'BMI','heartRate','glucose','TenYearCHD']]\nTenYearCHD_df['TenYearCHD'] = TenYearCHD_df['TenYearCHD'].astype('int')\nTenYearCHD_df",
      "metadata": {
        "trusted": true
      },
      "outputs": [
        {
          "execution_count": 5,
          "output_type": "execute_result",
          "data": {
            "text/plain": "      age  cigsPerDay  totChol  sysBP  diaBP    BMI  heartRate  glucose  \\\n0      39         0.0    195.0  106.0   70.0  26.97       80.0     77.0   \n1      46         0.0    250.0  121.0   81.0  28.73       95.0     76.0   \n2      48        20.0    245.0  127.5   80.0  25.34       75.0     70.0   \n3      61        30.0    225.0  150.0   95.0  28.58       65.0    103.0   \n4      46        23.0    285.0  130.0   84.0  23.10       85.0     85.0   \n...   ...         ...      ...    ...    ...    ...        ...      ...   \n4233   50         1.0    313.0  179.0   92.0  25.97       66.0     86.0   \n4234   51        43.0    207.0  126.5   80.0  19.71       65.0     68.0   \n4235   48        20.0    248.0  131.0   72.0  22.00       84.0     86.0   \n4236   44        15.0    210.0  126.5   87.0  19.16       86.0      NaN   \n4237   52         0.0    269.0  133.5   83.0  21.47       80.0    107.0   \n\n      TenYearCHD  \n0              0  \n1              0  \n2              0  \n3              1  \n4              0  \n...          ...  \n4233           1  \n4234           0  \n4235           0  \n4236           0  \n4237           0  \n\n[4238 rows x 9 columns]",
            "text/html": "<div>\n<style scoped>\n    .dataframe tbody tr th:only-of-type {\n        vertical-align: middle;\n    }\n\n    .dataframe tbody tr th {\n        vertical-align: top;\n    }\n\n    .dataframe thead th {\n        text-align: right;\n    }\n</style>\n<table border=\"1\" class=\"dataframe\">\n  <thead>\n    <tr style=\"text-align: right;\">\n      <th></th>\n      <th>age</th>\n      <th>cigsPerDay</th>\n      <th>totChol</th>\n      <th>sysBP</th>\n      <th>diaBP</th>\n      <th>BMI</th>\n      <th>heartRate</th>\n      <th>glucose</th>\n      <th>TenYearCHD</th>\n    </tr>\n  </thead>\n  <tbody>\n    <tr>\n      <th>0</th>\n      <td>39</td>\n      <td>0.0</td>\n      <td>195.0</td>\n      <td>106.0</td>\n      <td>70.0</td>\n      <td>26.97</td>\n      <td>80.0</td>\n      <td>77.0</td>\n      <td>0</td>\n    </tr>\n    <tr>\n      <th>1</th>\n      <td>46</td>\n      <td>0.0</td>\n      <td>250.0</td>\n      <td>121.0</td>\n      <td>81.0</td>\n      <td>28.73</td>\n      <td>95.0</td>\n      <td>76.0</td>\n      <td>0</td>\n    </tr>\n    <tr>\n      <th>2</th>\n      <td>48</td>\n      <td>20.0</td>\n      <td>245.0</td>\n      <td>127.5</td>\n      <td>80.0</td>\n      <td>25.34</td>\n      <td>75.0</td>\n      <td>70.0</td>\n      <td>0</td>\n    </tr>\n    <tr>\n      <th>3</th>\n      <td>61</td>\n      <td>30.0</td>\n      <td>225.0</td>\n      <td>150.0</td>\n      <td>95.0</td>\n      <td>28.58</td>\n      <td>65.0</td>\n      <td>103.0</td>\n      <td>1</td>\n    </tr>\n    <tr>\n      <th>4</th>\n      <td>46</td>\n      <td>23.0</td>\n      <td>285.0</td>\n      <td>130.0</td>\n      <td>84.0</td>\n      <td>23.10</td>\n      <td>85.0</td>\n      <td>85.0</td>\n      <td>0</td>\n    </tr>\n    <tr>\n      <th>...</th>\n      <td>...</td>\n      <td>...</td>\n      <td>...</td>\n      <td>...</td>\n      <td>...</td>\n      <td>...</td>\n      <td>...</td>\n      <td>...</td>\n      <td>...</td>\n    </tr>\n    <tr>\n      <th>4233</th>\n      <td>50</td>\n      <td>1.0</td>\n      <td>313.0</td>\n      <td>179.0</td>\n      <td>92.0</td>\n      <td>25.97</td>\n      <td>66.0</td>\n      <td>86.0</td>\n      <td>1</td>\n    </tr>\n    <tr>\n      <th>4234</th>\n      <td>51</td>\n      <td>43.0</td>\n      <td>207.0</td>\n      <td>126.5</td>\n      <td>80.0</td>\n      <td>19.71</td>\n      <td>65.0</td>\n      <td>68.0</td>\n      <td>0</td>\n    </tr>\n    <tr>\n      <th>4235</th>\n      <td>48</td>\n      <td>20.0</td>\n      <td>248.0</td>\n      <td>131.0</td>\n      <td>72.0</td>\n      <td>22.00</td>\n      <td>84.0</td>\n      <td>86.0</td>\n      <td>0</td>\n    </tr>\n    <tr>\n      <th>4236</th>\n      <td>44</td>\n      <td>15.0</td>\n      <td>210.0</td>\n      <td>126.5</td>\n      <td>87.0</td>\n      <td>19.16</td>\n      <td>86.0</td>\n      <td>NaN</td>\n      <td>0</td>\n    </tr>\n    <tr>\n      <th>4237</th>\n      <td>52</td>\n      <td>0.0</td>\n      <td>269.0</td>\n      <td>133.5</td>\n      <td>83.0</td>\n      <td>21.47</td>\n      <td>80.0</td>\n      <td>107.0</td>\n      <td>0</td>\n    </tr>\n  </tbody>\n</table>\n<p>4238 rows × 9 columns</p>\n</div>"
          },
          "metadata": {}
        }
      ],
      "execution_count": 5
    },
    {
      "id": "92353102-2bcb-44b2-958e-1963e77132bf",
      "cell_type": "code",
      "source": "print(TenYearCHD_df.isnull().sum())",
      "metadata": {
        "trusted": true
      },
      "outputs": [
        {
          "name": "stdout",
          "output_type": "stream",
          "text": "age             0\ncigsPerDay     29\ntotChol        50\nsysBP           0\ndiaBP           0\nBMI            19\nheartRate       1\nglucose       388\nTenYearCHD      0\ndtype: int64\n"
        }
      ],
      "execution_count": 6
    },
    {
      "id": "3fd0c50f-879f-4b07-8abc-62d9eef0d0af",
      "cell_type": "code",
      "source": "TenYearCHD_df[['cigsPerDay', 'totChol','BMI','heartRate','glucose']]=TenYearCHD_df[['cigsPerDay', 'totChol','BMI','heartRate','glucose']].fillna('0')\nTenYearCHD_df\nprint(TenYearCHD_df.isnull().sum())",
      "metadata": {
        "trusted": true
      },
      "outputs": [
        {
          "name": "stdout",
          "output_type": "stream",
          "text": "age           0\ncigsPerDay    0\ntotChol       0\nsysBP         0\ndiaBP         0\nBMI           0\nheartRate     0\nglucose       0\nTenYearCHD    0\ndtype: int64\n"
        }
      ],
      "execution_count": 7
    },
    {
      "id": "0fcbe209-94d9-4c50-8881-84e45c98e423",
      "cell_type": "code",
      "source": "X = np.asarray(TenYearCHD_df[['age', 'cigsPerDay', 'totChol', 'sysBP', 'diaBP', 'BMI','heartRate','glucose']])\nX[0:5] #print the first 5 values",
      "metadata": {
        "trusted": true
      },
      "outputs": [
        {
          "execution_count": 8,
          "output_type": "execute_result",
          "data": {
            "text/plain": "array([[39, 0.0, 195.0, 106.0, 70.0, 26.97, 80.0, 77.0],\n       [46, 0.0, 250.0, 121.0, 81.0, 28.73, 95.0, 76.0],\n       [48, 20.0, 245.0, 127.5, 80.0, 25.34, 75.0, 70.0],\n       [61, 30.0, 225.0, 150.0, 95.0, 28.58, 65.0, 103.0],\n       [46, 23.0, 285.0, 130.0, 84.0, 23.1, 85.0, 85.0]], dtype=object)"
          },
          "metadata": {}
        }
      ],
      "execution_count": 8
    },
    {
      "id": "4ff82f2d-93a5-4a81-bca3-2474ba42b15b",
      "cell_type": "code",
      "source": "y = np.asarray(TenYearCHD_df['TenYearCHD'])\ny[0:5] #print the first 5 values",
      "metadata": {
        "trusted": true
      },
      "outputs": [
        {
          "execution_count": 9,
          "output_type": "execute_result",
          "data": {
            "text/plain": "array([0, 0, 0, 1, 0])"
          },
          "metadata": {}
        }
      ],
      "execution_count": 9
    },
    {
      "id": "a916aa0c-b141-489c-9eb2-4514d286547e",
      "cell_type": "code",
      "source": "X_norm = StandardScaler().fit(X).transform(X)\nX_norm[0:5]",
      "metadata": {
        "trusted": true
      },
      "outputs": [
        {
          "execution_count": 10,
          "output_type": "execute_result",
          "data": {
            "text/plain": "array([[-1.23495068, -0.75132224, -0.76087026, -1.19590711, -1.08262515,\n         0.29039572,  0.34262779,  0.07720798],\n       [-0.41825733, -0.75132224,  0.31411609, -0.51518725, -0.15898843,\n         0.68854851,  1.58433854,  0.0467814 ],\n       [-0.18491638,  0.92920959,  0.21639006, -0.22020864, -0.24295541,\n        -0.07834806, -0.0712758 , -0.13577807],\n       [ 1.33179984,  1.76947551, -0.17451407,  0.80087114,  1.0165492 ,\n         0.65461504, -0.89908297,  0.86829905],\n       [-0.41825733,  1.18128937,  0.99819832, -0.10675533,  0.09291249,\n        -0.58508798,  0.75653137,  0.32062062]])"
          },
          "metadata": {}
        }
      ],
      "execution_count": 10
    },
    {
      "id": "9d2c1d83-c7e5-4924-9d1b-16d034d19b30",
      "cell_type": "code",
      "source": "X_train, X_test, y_train, y_test = train_test_split( X_norm, y, test_size=0.4,random_state=42)",
      "metadata": {
        "trusted": true
      },
      "outputs": [],
      "execution_count": 11
    },
    {
      "id": "bcf63a5e-ab98-4b01-9160-47f567fd025d",
      "cell_type": "code",
      "source": "LR = LogisticRegression().fit(X_train,y_train)",
      "metadata": {
        "trusted": true
      },
      "outputs": [],
      "execution_count": 12
    },
    {
      "id": "5723c364-48ca-435f-aa90-200fea5deb99",
      "cell_type": "code",
      "source": "yhat = LR.predict(X_test)",
      "metadata": {
        "trusted": true
      },
      "outputs": [],
      "execution_count": 13
    },
    {
      "id": "e382ed3f-c9cd-4aa7-be69-9ae577f5b825",
      "cell_type": "code",
      "source": "yhat_prob = LR.predict_proba(X_test)\nyhat_prob[:10]",
      "metadata": {
        "trusted": true
      },
      "outputs": [
        {
          "execution_count": 14,
          "output_type": "execute_result",
          "data": {
            "text/plain": "array([[0.70418724, 0.29581276],\n       [0.92763165, 0.07236835],\n       [0.87517513, 0.12482487],\n       [0.84501612, 0.15498388],\n       [0.91737911, 0.08262089],\n       [0.82870394, 0.17129606],\n       [0.88880436, 0.11119564],\n       [0.76205467, 0.23794533],\n       [0.84168338, 0.15831662],\n       [0.63444592, 0.36555408]])"
          },
          "metadata": {}
        }
      ],
      "execution_count": 14
    },
    {
      "id": "3aeef7c8-f749-4d4e-aa0f-f4c94872891d",
      "cell_type": "code",
      "source": "coefficients = pd.Series(LR.coef_[0], index=TenYearCHD_df.columns[:-1])\ncoefficients.sort_values().plot(kind='barh')\nplt.title(\"Feature Coefficients in Logistic Regression Ten Year CHD Model\")\nplt.xlabel(\"Coefficient Value\")\nplt.show()",
      "metadata": {
        "trusted": true
      },
      "outputs": [
        {
          "output_type": "display_data",
          "data": {
            "text/plain": "<Figure size 640x480 with 1 Axes>",
            "image/png": "[encoded data removed]"
          },
          "metadata": {}
        }
      ],
      "execution_count": 15
    },
    {
      "id": "a3823555-359e-4e4a-b6b3-9c2749cd0e24",
      "cell_type": "code",
      "source": "from sklearn.metrics import confusion_matrix, classification_report, accuracy_score\nconfusion_matrix(y_test, yhat, labels=[1,2])",
      "metadata": {
        "trusted": true
      },
      "outputs": [
        {
          "execution_count": 16,
          "output_type": "execute_result",
          "data": {
            "text/plain": "array([[21,  0],\n       [ 0,  0]], dtype=int64)"
          },
          "metadata": {}
        }
      ],
      "execution_count": 16
    },
    {
      "id": "a461a34b-8455-45f8-8a68-b30d94eef3b8",
      "cell_type": "code",
      "source": "print(f\"Logistic Regression Testing Accuracy: {accuracy_score(y_test, yhat):.3f}\")",
      "metadata": {
        "trusted": true
      },
      "outputs": [
        {
          "name": "stdout",
          "output_type": "stream",
          "text": "Logistic Regression Testing Accuracy: 0.858\n"
        }
      ],
      "execution_count": 17
    },
    {
      "id": "dc6d9667-7692-423a-8a52-904639416c85",
      "cell_type": "code",
      "source": "print(\"\\nLogistic Regression Test Classification Report:\")\nprint(classification_report(y_test, yhat))",
      "metadata": {
        "trusted": true
      },
      "outputs": [
        {
          "name": "stdout",
          "output_type": "stream",
          "text": "\nLogistic Regression Test Classification Report:\n              precision    recall  f1-score   support\n\n           0       0.86      0.99      0.92      1445\n           1       0.68      0.08      0.15       251\n\n    accuracy                           0.86      1696\n   macro avg       0.77      0.54      0.54      1696\nweighted avg       0.83      0.86      0.81      1696\n\n"
        }
      ],
      "execution_count": 18
    },
    {
      "id": "2907621b-c1fc-4682-ba69-dc0f60c2e0cf",
      "cell_type": "code",
      "source": "log_loss(y_test, yhat_prob)",
      "metadata": {
        "trusted": true
      },
      "outputs": [
        {
          "execution_count": 19,
          "output_type": "execute_result",
          "data": {
            "text/plain": "0.383758754456315"
          },
          "metadata": {}
        }
      ],
      "execution_count": 19
    }
  ]
}